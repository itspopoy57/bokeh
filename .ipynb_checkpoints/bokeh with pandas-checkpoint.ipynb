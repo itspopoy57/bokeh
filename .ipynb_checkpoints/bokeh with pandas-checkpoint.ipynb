{
 "cells": [
  {
   "cell_type": "code",
   "execution_count": 4,
   "metadata": {},
   "outputs": [],
   "source": [
    "from bokeh.plotting import figure\n",
    "from bokeh.io import output_file, show\n",
    "import pandas\n",
    "\n",
    "#prepare some data\n",
    "df=pandas.read_csv(\"data.csv\")\n",
    "x=df[\"x\"]\n",
    "y=df[\"y\"]\n",
    "\n",
    "output_file(\"lineavecpanda.html\")\n",
    "\n",
    "f=figure()\n",
    "f.circle(x,y)\n",
    "show(f)\n"
   ]
  },
  {
   "cell_type": "code",
   "execution_count": 5,
   "metadata": {},
   "outputs": [
    {
     "data": {
      "text/plain": [
       "0     6\n",
       "1     7\n",
       "2     8\n",
       "3     9\n",
       "4    10\n",
       "Name: y, dtype: int64"
      ]
     },
     "execution_count": 5,
     "metadata": {},
     "output_type": "execute_result"
    }
   ],
   "source": [
    "df[\"y\"]"
   ]
  },
  {
   "cell_type": "code",
   "execution_count": 2,
   "metadata": {},
   "outputs": [
    {
     "name": "stdout",
     "output_type": "stream",
     "text": [
      "x,y\n"
     ]
    }
   ],
   "source": [
    "from bokeh.plotting import figure\n",
    "from bokeh.io import output_file, show\n",
    "import pandas\n",
    "\n",
    "#prepare some data\n",
    "df=pandas.read_csv(\"bachelors.csv\")\n",
    "x=df[\"Year\"]\n",
    "y=df[\"Engineering\"]\n",
    "\n",
    "#output_file(\"engrClass.html\")\n",
    "\n",
    "#f=figure()\n",
    "#f.line(x,y)\n",
    "#show(f)\n",
    "\n",
    "print(\"lat \"+ x  +\"long\"+ y)\n"
   ]
  },
  {
   "cell_type": "code",
   "execution_count": 1,
   "metadata": {},
   "outputs": [],
   "source": [
    "\n",
    "import pandas\n",
    "\n",
    "from bokeh.plotting import figure\n",
    "from bokeh.io import output_file, show\n",
    "\n",
    " \n",
    "\n",
    "p=figure(plot_width=500,plot_height=400)#, tools='pan',logo=None)\n",
    "\n",
    " \n",
    "\n",
    "p.title.text=\"Cool Data\"\n",
    "\n",
    "p.title.text_color=\"Gray\"\n",
    "\n",
    "p.title.text_font=\"times\"\n",
    "\n",
    "p.title.text_font_style=\"bold\"\n",
    "\n",
    "p.xaxis.minor_tick_line_color=None\n",
    "\n",
    "p.yaxis.minor_tick_line_color=None\n",
    "\n",
    "p.xaxis.axis_label=\"Date\"\n",
    "\n",
    "p.yaxis.axis_label=\"Intensity\"  \n",
    "\n",
    " \n",
    "\n",
    "p.line([1,2,3],[4,5,6])\n",
    "\n",
    "output_file(\"graph.html\")\n",
    "\n",
    "show(p)\n",
    "\n"
   ]
  },
  {
   "cell_type": "code",
   "execution_count": 2,
   "metadata": {},
   "outputs": [],
   "source": [
    "from bokeh.plotting import figure\n",
    "from bokeh.io import output_file, show\n",
    "import pandas\n",
    "\n",
    "#prepare some data\n",
    "df=pandas.read_excel(\"verlegenhuken.xlsx\")\n",
    "x=df[\"Temperature\"]\n",
    "y=df[\"Pressure\"]\n",
    "\n",
    "\n",
    "output_file(\"weather.html\")\n",
    "\n",
    "f=figure()\n",
    "f.circle(x,y)\n",
    "show(f)\n",
    "\n"
   ]
  },
  {
   "cell_type": "code",
   "execution_count": 18,
   "metadata": {},
   "outputs": [],
   "source": [
    "# the mentors solution\n",
    "import pandas\n",
    "\n",
    " \n",
    "\n",
    "from bokeh.plotting import figure, output_file, show\n",
    "\n",
    " \n",
    "\n",
    "df=pandas.read_excel(\"http://pythonhow.com/data/verlegenhuken.xlsx\",sheet_name=0)\n",
    "\n",
    "df[\"Temperature\"]=df[\"Temperature\"]/10\n",
    "\n",
    "df[\"Pressure\"]=df[\"Pressure\"]/10\n",
    "\n",
    " \n",
    "\n",
    "p=figure(plot_width=500,plot_height=400,tools='pan')\n",
    "\n",
    " \n",
    "\n",
    "p.title.text=\"Temperature and Air Pressure\"\n",
    "\n",
    "p.title.text_color=\"Gray\"\n",
    "\n",
    "p.title.text_font=\"arial\"\n",
    "\n",
    "p.title.text_font_style=\"bold\"\n",
    "\n",
    "p.xaxis.minor_tick_line_color=None\n",
    "\n",
    "p.yaxis.minor_tick_line_color=None\n",
    "\n",
    "p.xaxis.axis_label=\"Temperature (°C)\"\n",
    "\n",
    "p.yaxis.axis_label=\"Pressure (hPa)\"  \n",
    "\n",
    " \n",
    "\n",
    "p.circle(df[\"Temperature\"],df[\"Pressure\"],size=0.5)\n",
    "\n",
    "output_file(\"Weather.html\")\n",
    "\n",
    "show(p)\n",
    "\n"
   ]
  },
  {
   "cell_type": "code",
   "execution_count": 19,
   "metadata": {},
   "outputs": [],
   "source": [
    "\n",
    "from bokeh.plotting import figure, output_file, show\n",
    "\n",
    "p = figure(plot_width=500, plot_height=400, tools = 'pan, reset')\n",
    "\n",
    "p.title.text = \"Earthquakes\"\n",
    "\n",
    "p.title.text_color = \"Orange\"\n",
    "\n",
    "p.title.text_font = \"times\"\n",
    "\n",
    "p.title.text_font_style = \"italic\"\n",
    "\n",
    "p.yaxis.minor_tick_line_color = \"Yellow\"\n",
    "\n",
    "p.xaxis.axis_label = \"Times\"\n",
    "\n",
    "p.yaxis.axis_label = \"Value\"\n",
    "\n",
    "p.circle([1,2,3,4,5], [5,6,5,5,3], size = [i*2 for i in [8,12,14,15,20]], color=\"red\", alpha=0.5)\n",
    "\n",
    "output_file(\"Scatter_plotting.html\")\n",
    "\n",
    "show(p)"
   ]
  },
  {
   "cell_type": "code",
   "execution_count": 3,
   "metadata": {},
   "outputs": [],
   "source": [
    "from bokeh.plotting import figure, output_file, show\n",
    "\n",
    "import pandas\n",
    "\n",
    "df=pandas.read_csv(\"adbe.csv\", parse_dates=[\"Date\"])\n",
    "#you can only get the responsive when its not downloaded and you uses a ink so it is responsive\n",
    "\n",
    "p=figure(width = 500 , height= 250, x_axis_type= \"datetime\")#, responsive= True)\n",
    "\n",
    "p.line(df[\"Date\"],df[\"Close\"], color=\"Orange\", alpha= 0.5)\n",
    "\n",
    "output_file(\"Timeseries.html\")\n",
    "show(p)\n"
   ]
  },
  {
   "cell_type": "code",
   "execution_count": 15,
   "metadata": {},
   "outputs": [],
   "source": [
    "from bokeh.plotting import figure\n",
    "from bokeh.io import output_file, show\n",
    "import pandas\n",
    "from bokeh.models import DatetimeTickFormatter, ColumnDataSource\n",
    "\n",
    "\n",
    "#prepare some data\n",
    "df=pandas.read_csv(\"Sample.csv\")\n",
    "df[\"time\"] = pandas.to_datetime(df['time'])\n",
    "x=df[\"time\"]\n",
    "y=df[\"altitude (m)\"]\n",
    "\n",
    "output_file(\"pasto.html\")\n",
    "\n",
    "f=figure(plot_width=1080, plot_height=720, x_axis_type='datetime')\n",
    "f.xaxis.formatter=DatetimeTickFormatter(\n",
    "    minutes=[\"%M\"],\n",
    "    hours=[\"%H:%M\"],\n",
    "    days=[\"%d-%m-%Y\"],\n",
    "    months=[\"%m-%Y\"],\n",
    "    years=[\"%Y\"]\n",
    ")\n",
    "f.line(x,y,line_width=2)\n",
    "\n",
    "\n",
    "show(f)\n",
    "\n",
    "\n"
   ]
  },
  {
   "cell_type": "code",
   "execution_count": null,
   "metadata": {},
   "outputs": [],
   "source": []
  }
 ],
 "metadata": {
  "kernelspec": {
   "display_name": "Python 3",
   "language": "python",
   "name": "python3"
  },
  "language_info": {
   "codemirror_mode": {
    "name": "ipython",
    "version": 3
   },
   "file_extension": ".py",
   "mimetype": "text/x-python",
   "name": "python",
   "nbconvert_exporter": "python",
   "pygments_lexer": "ipython3",
   "version": "3.7.6"
  }
 },
 "nbformat": 4,
 "nbformat_minor": 4
}
